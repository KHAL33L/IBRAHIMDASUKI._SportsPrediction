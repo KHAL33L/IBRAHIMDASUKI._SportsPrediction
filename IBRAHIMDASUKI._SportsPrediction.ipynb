{
 "cells": [
  {
   "cell_type": "markdown",
   "id": "7b6e783c",
   "metadata": {},
   "source": [
    "### Importation"
   ]
  },
  {
   "cell_type": "code",
   "execution_count": 1,
   "id": "7b6d3fb9",
   "metadata": {},
   "outputs": [],
   "source": [
    "import pandas as pd\n",
    "import numpy as np\n",
    "from sklearn.impute import SimpleImputer\n",
    "from sklearn.compose import ColumnTransformer\n",
    "from sklearn.ensemble import GradientBoostingRegressor, VotingRegressor\n",
    "from sklearn.model_selection import train_test_split, cross_val_score, GridSearchCV\n",
    "from sklearn.preprocessing import LabelEncoder\n",
    "from sklearn.experimental import enable_iterative_imputer\n",
    "from sklearn.impute import IterativeImputer\n",
    "from sklearn.feature_selection import SelectKBest, f_regression\n",
    "from sklearn.metrics import mean_squared_error, mean_absolute_error, r2_score\n",
    "from sklearn.linear_model import LinearRegression\n",
    "from sklearn.tree import DecisionTreeRegressor\n",
    "import joblib\n",
    "import pickle as pkl"
   ]
  },
  {
   "cell_type": "markdown",
   "id": "57340f4f",
   "metadata": {},
   "source": [
    "### Data prep and extraction"
   ]
  },
  {
   "cell_type": "code",
   "execution_count": 2,
   "id": "e3182704",
   "metadata": {},
   "outputs": [
    {
     "name": "stderr",
     "output_type": "stream",
     "text": [
      "C:\\Users\\HP\\AppData\\Local\\Temp\\ipykernel_23064\\2142396543.py:2: DtypeWarning: Columns (108) have mixed types. Specify dtype option on import or set low_memory=False.\n",
      "  stats = pd.read_csv(\"male_players (legacy).csv\")\n"
     ]
    }
   ],
   "source": [
    "#loading the datasets\n",
    "stats = pd.read_csv(\"male_players (legacy).csv\")"
   ]
  },
  {
   "cell_type": "code",
   "execution_count": 3,
   "id": "ff7d71e2",
   "metadata": {},
   "outputs": [
    {
     "data": {
      "text/html": [
       "<div>\n",
       "<style scoped>\n",
       "    .dataframe tbody tr th:only-of-type {\n",
       "        vertical-align: middle;\n",
       "    }\n",
       "\n",
       "    .dataframe tbody tr th {\n",
       "        vertical-align: top;\n",
       "    }\n",
       "\n",
       "    .dataframe thead th {\n",
       "        text-align: right;\n",
       "    }\n",
       "</style>\n",
       "<table border=\"1\" class=\"dataframe\">\n",
       "  <thead>\n",
       "    <tr style=\"text-align: right;\">\n",
       "      <th></th>\n",
       "      <th>player_id</th>\n",
       "      <th>player_url</th>\n",
       "      <th>fifa_version</th>\n",
       "      <th>fifa_update</th>\n",
       "      <th>fifa_update_date</th>\n",
       "      <th>short_name</th>\n",
       "      <th>long_name</th>\n",
       "      <th>player_positions</th>\n",
       "      <th>overall</th>\n",
       "      <th>potential</th>\n",
       "      <th>...</th>\n",
       "      <th>cdm</th>\n",
       "      <th>rdm</th>\n",
       "      <th>rwb</th>\n",
       "      <th>lb</th>\n",
       "      <th>lcb</th>\n",
       "      <th>cb</th>\n",
       "      <th>rcb</th>\n",
       "      <th>rb</th>\n",
       "      <th>gk</th>\n",
       "      <th>player_face_url</th>\n",
       "    </tr>\n",
       "  </thead>\n",
       "  <tbody>\n",
       "    <tr>\n",
       "      <th>0</th>\n",
       "      <td>158023</td>\n",
       "      <td>/player/158023/lionel-messi/150002</td>\n",
       "      <td>15</td>\n",
       "      <td>2</td>\n",
       "      <td>2014-09-18</td>\n",
       "      <td>L. Messi</td>\n",
       "      <td>Lionel Andrés Messi Cuccittini</td>\n",
       "      <td>CF</td>\n",
       "      <td>93</td>\n",
       "      <td>95</td>\n",
       "      <td>...</td>\n",
       "      <td>62+3</td>\n",
       "      <td>62+3</td>\n",
       "      <td>62+3</td>\n",
       "      <td>54+3</td>\n",
       "      <td>45+3</td>\n",
       "      <td>45+3</td>\n",
       "      <td>45+3</td>\n",
       "      <td>54+3</td>\n",
       "      <td>15+3</td>\n",
       "      <td>https://cdn.sofifa.net/players/158/023/15_120.png</td>\n",
       "    </tr>\n",
       "    <tr>\n",
       "      <th>1</th>\n",
       "      <td>20801</td>\n",
       "      <td>/player/20801/c-ronaldo-dos-santos-aveiro/150002</td>\n",
       "      <td>15</td>\n",
       "      <td>2</td>\n",
       "      <td>2014-09-18</td>\n",
       "      <td>Cristiano Ronaldo</td>\n",
       "      <td>Cristiano Ronaldo dos Santos Aveiro</td>\n",
       "      <td>LW, LM</td>\n",
       "      <td>92</td>\n",
       "      <td>92</td>\n",
       "      <td>...</td>\n",
       "      <td>63+3</td>\n",
       "      <td>63+3</td>\n",
       "      <td>63+3</td>\n",
       "      <td>57+3</td>\n",
       "      <td>52+3</td>\n",
       "      <td>52+3</td>\n",
       "      <td>52+3</td>\n",
       "      <td>57+3</td>\n",
       "      <td>16+3</td>\n",
       "      <td>https://cdn.sofifa.net/players/020/801/15_120.png</td>\n",
       "    </tr>\n",
       "    <tr>\n",
       "      <th>2</th>\n",
       "      <td>9014</td>\n",
       "      <td>/player/9014/arjen-robben/150002</td>\n",
       "      <td>15</td>\n",
       "      <td>2</td>\n",
       "      <td>2014-09-18</td>\n",
       "      <td>A. Robben</td>\n",
       "      <td>Arjen Robben</td>\n",
       "      <td>RM, LM, RW</td>\n",
       "      <td>90</td>\n",
       "      <td>90</td>\n",
       "      <td>...</td>\n",
       "      <td>64+3</td>\n",
       "      <td>64+3</td>\n",
       "      <td>64+3</td>\n",
       "      <td>55+3</td>\n",
       "      <td>46+3</td>\n",
       "      <td>46+3</td>\n",
       "      <td>46+3</td>\n",
       "      <td>55+3</td>\n",
       "      <td>14+3</td>\n",
       "      <td>https://cdn.sofifa.net/players/009/014/15_120.png</td>\n",
       "    </tr>\n",
       "    <tr>\n",
       "      <th>3</th>\n",
       "      <td>41236</td>\n",
       "      <td>/player/41236/zlatan-ibrahimovic/150002</td>\n",
       "      <td>15</td>\n",
       "      <td>2</td>\n",
       "      <td>2014-09-18</td>\n",
       "      <td>Z. Ibrahimović</td>\n",
       "      <td>Zlatan Ibrahimović</td>\n",
       "      <td>ST</td>\n",
       "      <td>90</td>\n",
       "      <td>90</td>\n",
       "      <td>...</td>\n",
       "      <td>65+3</td>\n",
       "      <td>65+3</td>\n",
       "      <td>61+3</td>\n",
       "      <td>56+3</td>\n",
       "      <td>55+3</td>\n",
       "      <td>55+3</td>\n",
       "      <td>55+3</td>\n",
       "      <td>56+3</td>\n",
       "      <td>17+3</td>\n",
       "      <td>https://cdn.sofifa.net/players/041/236/15_120.png</td>\n",
       "    </tr>\n",
       "    <tr>\n",
       "      <th>4</th>\n",
       "      <td>167495</td>\n",
       "      <td>/player/167495/manuel-neuer/150002</td>\n",
       "      <td>15</td>\n",
       "      <td>2</td>\n",
       "      <td>2014-09-18</td>\n",
       "      <td>M. Neuer</td>\n",
       "      <td>Manuel Peter Neuer</td>\n",
       "      <td>GK</td>\n",
       "      <td>90</td>\n",
       "      <td>90</td>\n",
       "      <td>...</td>\n",
       "      <td>40+3</td>\n",
       "      <td>40+3</td>\n",
       "      <td>36+3</td>\n",
       "      <td>36+3</td>\n",
       "      <td>38+3</td>\n",
       "      <td>38+3</td>\n",
       "      <td>38+3</td>\n",
       "      <td>36+3</td>\n",
       "      <td>87+3</td>\n",
       "      <td>https://cdn.sofifa.net/players/167/495/15_120.png</td>\n",
       "    </tr>\n",
       "  </tbody>\n",
       "</table>\n",
       "<p>5 rows × 110 columns</p>\n",
       "</div>"
      ],
      "text/plain": [
       "   player_id                                        player_url  fifa_version  \\\n",
       "0     158023                /player/158023/lionel-messi/150002            15   \n",
       "1      20801  /player/20801/c-ronaldo-dos-santos-aveiro/150002            15   \n",
       "2       9014                  /player/9014/arjen-robben/150002            15   \n",
       "3      41236           /player/41236/zlatan-ibrahimovic/150002            15   \n",
       "4     167495                /player/167495/manuel-neuer/150002            15   \n",
       "\n",
       "   fifa_update fifa_update_date         short_name  \\\n",
       "0            2       2014-09-18           L. Messi   \n",
       "1            2       2014-09-18  Cristiano Ronaldo   \n",
       "2            2       2014-09-18          A. Robben   \n",
       "3            2       2014-09-18     Z. Ibrahimović   \n",
       "4            2       2014-09-18           M. Neuer   \n",
       "\n",
       "                             long_name player_positions  overall  potential  \\\n",
       "0       Lionel Andrés Messi Cuccittini               CF       93         95   \n",
       "1  Cristiano Ronaldo dos Santos Aveiro           LW, LM       92         92   \n",
       "2                         Arjen Robben       RM, LM, RW       90         90   \n",
       "3                   Zlatan Ibrahimović               ST       90         90   \n",
       "4                   Manuel Peter Neuer               GK       90         90   \n",
       "\n",
       "   ...   cdm   rdm   rwb    lb   lcb    cb   rcb    rb    gk  \\\n",
       "0  ...  62+3  62+3  62+3  54+3  45+3  45+3  45+3  54+3  15+3   \n",
       "1  ...  63+3  63+3  63+3  57+3  52+3  52+3  52+3  57+3  16+3   \n",
       "2  ...  64+3  64+3  64+3  55+3  46+3  46+3  46+3  55+3  14+3   \n",
       "3  ...  65+3  65+3  61+3  56+3  55+3  55+3  55+3  56+3  17+3   \n",
       "4  ...  40+3  40+3  36+3  36+3  38+3  38+3  38+3  36+3  87+3   \n",
       "\n",
       "                                     player_face_url  \n",
       "0  https://cdn.sofifa.net/players/158/023/15_120.png  \n",
       "1  https://cdn.sofifa.net/players/020/801/15_120.png  \n",
       "2  https://cdn.sofifa.net/players/009/014/15_120.png  \n",
       "3  https://cdn.sofifa.net/players/041/236/15_120.png  \n",
       "4  https://cdn.sofifa.net/players/167/495/15_120.png  \n",
       "\n",
       "[5 rows x 110 columns]"
      ]
     },
     "execution_count": 3,
     "metadata": {},
     "output_type": "execute_result"
    }
   ],
   "source": [
    "stats.head()"
   ]
  },
  {
   "cell_type": "code",
   "execution_count": 4,
   "id": "3d82dec0",
   "metadata": {},
   "outputs": [],
   "source": [
    "# dropping columns with more than 30% na values\n",
    "threshold = 0.3 * stats.shape[0]\n",
    "stats = stats.dropna(thresh=threshold, axis=1)\n",
    "stats.drop(columns=['value_eur', 'wage_eur', 'release_clause_eur', 'international_reputation'], inplace=True)\n",
    "# dropping the wage columns because they are rather dependant on the overall rating"
   ]
  },
  {
   "cell_type": "markdown",
   "id": "63bba77c",
   "metadata": {},
   "source": [
    "### Subsetting data into the most important feautures"
   ]
  },
  {
   "cell_type": "code",
   "execution_count": 5,
   "id": "8ab44c65",
   "metadata": {},
   "outputs": [],
   "source": [
    "# picking numeric values for the independent variables only because they are generally more important in football rating\n",
    "nums = stats.select_dtypes(include=np.number)"
   ]
  },
  {
   "cell_type": "code",
   "execution_count": 6,
   "id": "0d46941e",
   "metadata": {},
   "outputs": [],
   "source": [
    "# imputing missing values in the numeric data\n",
    "imputer = SimpleImputer(strategy='mean')\n",
    "imputed_numeric_data = pd.DataFrame(imputer.fit_transform(nums), columns=nums.columns, index=nums.index)"
   ]
  },
  {
   "cell_type": "code",
   "execution_count": 7,
   "id": "c0d50bd2",
   "metadata": {},
   "outputs": [],
   "source": [
    "# Separate the data into dependent and independent sets\n",
    "y = imputed_numeric_data['overall']\n",
    "X = imputed_numeric_data.drop(columns=['overall'])"
   ]
  },
  {
   "cell_type": "code",
   "execution_count": 8,
   "id": "fabb3d5c",
   "metadata": {
    "scrolled": false
   },
   "outputs": [
    {
     "data": {
      "text/html": [
       "<div>\n",
       "<style scoped>\n",
       "    .dataframe tbody tr th:only-of-type {\n",
       "        vertical-align: middle;\n",
       "    }\n",
       "\n",
       "    .dataframe tbody tr th {\n",
       "        vertical-align: top;\n",
       "    }\n",
       "\n",
       "    .dataframe thead th {\n",
       "        text-align: right;\n",
       "    }\n",
       "</style>\n",
       "<table border=\"1\" class=\"dataframe\">\n",
       "  <thead>\n",
       "    <tr style=\"text-align: right;\">\n",
       "      <th></th>\n",
       "      <th>potential</th>\n",
       "      <th>age</th>\n",
       "      <th>shooting</th>\n",
       "      <th>passing</th>\n",
       "      <th>dribbling</th>\n",
       "      <th>physic</th>\n",
       "      <th>attacking_short_passing</th>\n",
       "      <th>skill_long_passing</th>\n",
       "      <th>skill_ball_control</th>\n",
       "      <th>movement_reactions</th>\n",
       "      <th>power_shot_power</th>\n",
       "      <th>mentality_vision</th>\n",
       "      <th>mentality_composure</th>\n",
       "    </tr>\n",
       "  </thead>\n",
       "  <tbody>\n",
       "    <tr>\n",
       "      <th>0</th>\n",
       "      <td>95</td>\n",
       "      <td>27</td>\n",
       "      <td>89.0</td>\n",
       "      <td>86.0</td>\n",
       "      <td>96.0</td>\n",
       "      <td>63.0</td>\n",
       "      <td>89</td>\n",
       "      <td>76</td>\n",
       "      <td>96</td>\n",
       "      <td>94</td>\n",
       "      <td>80</td>\n",
       "      <td>90</td>\n",
       "      <td>NaN</td>\n",
       "    </tr>\n",
       "    <tr>\n",
       "      <th>1</th>\n",
       "      <td>92</td>\n",
       "      <td>29</td>\n",
       "      <td>93.0</td>\n",
       "      <td>81.0</td>\n",
       "      <td>91.0</td>\n",
       "      <td>79.0</td>\n",
       "      <td>82</td>\n",
       "      <td>72</td>\n",
       "      <td>92</td>\n",
       "      <td>90</td>\n",
       "      <td>94</td>\n",
       "      <td>81</td>\n",
       "      <td>NaN</td>\n",
       "    </tr>\n",
       "    <tr>\n",
       "      <th>2</th>\n",
       "      <td>90</td>\n",
       "      <td>30</td>\n",
       "      <td>86.0</td>\n",
       "      <td>83.0</td>\n",
       "      <td>92.0</td>\n",
       "      <td>64.0</td>\n",
       "      <td>86</td>\n",
       "      <td>76</td>\n",
       "      <td>90</td>\n",
       "      <td>89</td>\n",
       "      <td>86</td>\n",
       "      <td>84</td>\n",
       "      <td>NaN</td>\n",
       "    </tr>\n",
       "    <tr>\n",
       "      <th>3</th>\n",
       "      <td>90</td>\n",
       "      <td>32</td>\n",
       "      <td>91.0</td>\n",
       "      <td>81.0</td>\n",
       "      <td>86.0</td>\n",
       "      <td>86.0</td>\n",
       "      <td>84</td>\n",
       "      <td>76</td>\n",
       "      <td>90</td>\n",
       "      <td>85</td>\n",
       "      <td>93</td>\n",
       "      <td>83</td>\n",
       "      <td>NaN</td>\n",
       "    </tr>\n",
       "    <tr>\n",
       "      <th>4</th>\n",
       "      <td>90</td>\n",
       "      <td>28</td>\n",
       "      <td>NaN</td>\n",
       "      <td>NaN</td>\n",
       "      <td>NaN</td>\n",
       "      <td>NaN</td>\n",
       "      <td>42</td>\n",
       "      <td>41</td>\n",
       "      <td>31</td>\n",
       "      <td>89</td>\n",
       "      <td>42</td>\n",
       "      <td>20</td>\n",
       "      <td>NaN</td>\n",
       "    </tr>\n",
       "    <tr>\n",
       "      <th>...</th>\n",
       "      <td>...</td>\n",
       "      <td>...</td>\n",
       "      <td>...</td>\n",
       "      <td>...</td>\n",
       "      <td>...</td>\n",
       "      <td>...</td>\n",
       "      <td>...</td>\n",
       "      <td>...</td>\n",
       "      <td>...</td>\n",
       "      <td>...</td>\n",
       "      <td>...</td>\n",
       "      <td>...</td>\n",
       "      <td>...</td>\n",
       "    </tr>\n",
       "    <tr>\n",
       "      <th>161578</th>\n",
       "      <td>61</td>\n",
       "      <td>18</td>\n",
       "      <td>48.0</td>\n",
       "      <td>40.0</td>\n",
       "      <td>47.0</td>\n",
       "      <td>44.0</td>\n",
       "      <td>38</td>\n",
       "      <td>33</td>\n",
       "      <td>45</td>\n",
       "      <td>39</td>\n",
       "      <td>64</td>\n",
       "      <td>42</td>\n",
       "      <td>40.0</td>\n",
       "    </tr>\n",
       "    <tr>\n",
       "      <th>161579</th>\n",
       "      <td>58</td>\n",
       "      <td>19</td>\n",
       "      <td>25.0</td>\n",
       "      <td>29.0</td>\n",
       "      <td>34.0</td>\n",
       "      <td>57.0</td>\n",
       "      <td>30</td>\n",
       "      <td>25</td>\n",
       "      <td>32</td>\n",
       "      <td>42</td>\n",
       "      <td>33</td>\n",
       "      <td>31</td>\n",
       "      <td>35.0</td>\n",
       "    </tr>\n",
       "    <tr>\n",
       "      <th>161580</th>\n",
       "      <td>58</td>\n",
       "      <td>19</td>\n",
       "      <td>36.0</td>\n",
       "      <td>43.0</td>\n",
       "      <td>46.0</td>\n",
       "      <td>53.0</td>\n",
       "      <td>51</td>\n",
       "      <td>43</td>\n",
       "      <td>35</td>\n",
       "      <td>50</td>\n",
       "      <td>51</td>\n",
       "      <td>40</td>\n",
       "      <td>35.0</td>\n",
       "    </tr>\n",
       "    <tr>\n",
       "      <th>161581</th>\n",
       "      <td>70</td>\n",
       "      <td>17</td>\n",
       "      <td>50.0</td>\n",
       "      <td>36.0</td>\n",
       "      <td>46.0</td>\n",
       "      <td>42.0</td>\n",
       "      <td>40</td>\n",
       "      <td>26</td>\n",
       "      <td>43</td>\n",
       "      <td>45</td>\n",
       "      <td>42</td>\n",
       "      <td>44</td>\n",
       "      <td>43.0</td>\n",
       "    </tr>\n",
       "    <tr>\n",
       "      <th>161582</th>\n",
       "      <td>63</td>\n",
       "      <td>17</td>\n",
       "      <td>22.0</td>\n",
       "      <td>26.0</td>\n",
       "      <td>32.0</td>\n",
       "      <td>57.0</td>\n",
       "      <td>32</td>\n",
       "      <td>29</td>\n",
       "      <td>31</td>\n",
       "      <td>40</td>\n",
       "      <td>33</td>\n",
       "      <td>20</td>\n",
       "      <td>30.0</td>\n",
       "    </tr>\n",
       "  </tbody>\n",
       "</table>\n",
       "<p>161583 rows × 13 columns</p>\n",
       "</div>"
      ],
      "text/plain": [
       "        potential  age  shooting  passing  dribbling  physic  \\\n",
       "0              95   27      89.0     86.0       96.0    63.0   \n",
       "1              92   29      93.0     81.0       91.0    79.0   \n",
       "2              90   30      86.0     83.0       92.0    64.0   \n",
       "3              90   32      91.0     81.0       86.0    86.0   \n",
       "4              90   28       NaN      NaN        NaN     NaN   \n",
       "...           ...  ...       ...      ...        ...     ...   \n",
       "161578         61   18      48.0     40.0       47.0    44.0   \n",
       "161579         58   19      25.0     29.0       34.0    57.0   \n",
       "161580         58   19      36.0     43.0       46.0    53.0   \n",
       "161581         70   17      50.0     36.0       46.0    42.0   \n",
       "161582         63   17      22.0     26.0       32.0    57.0   \n",
       "\n",
       "        attacking_short_passing  skill_long_passing  skill_ball_control  \\\n",
       "0                            89                  76                  96   \n",
       "1                            82                  72                  92   \n",
       "2                            86                  76                  90   \n",
       "3                            84                  76                  90   \n",
       "4                            42                  41                  31   \n",
       "...                         ...                 ...                 ...   \n",
       "161578                       38                  33                  45   \n",
       "161579                       30                  25                  32   \n",
       "161580                       51                  43                  35   \n",
       "161581                       40                  26                  43   \n",
       "161582                       32                  29                  31   \n",
       "\n",
       "        movement_reactions  power_shot_power  mentality_vision  \\\n",
       "0                       94                80                90   \n",
       "1                       90                94                81   \n",
       "2                       89                86                84   \n",
       "3                       85                93                83   \n",
       "4                       89                42                20   \n",
       "...                    ...               ...               ...   \n",
       "161578                  39                64                42   \n",
       "161579                  42                33                31   \n",
       "161580                  50                51                40   \n",
       "161581                  45                42                44   \n",
       "161582                  40                33                20   \n",
       "\n",
       "        mentality_composure  \n",
       "0                       NaN  \n",
       "1                       NaN  \n",
       "2                       NaN  \n",
       "3                       NaN  \n",
       "4                       NaN  \n",
       "...                     ...  \n",
       "161578                 40.0  \n",
       "161579                 35.0  \n",
       "161580                 35.0  \n",
       "161581                 43.0  \n",
       "161582                 30.0  \n",
       "\n",
       "[161583 rows x 13 columns]"
      ]
     },
     "execution_count": 8,
     "metadata": {},
     "output_type": "execute_result"
    }
   ],
   "source": [
    "# picking the top 13 most important features\n",
    "important = SelectKBest(f_regression, k=13)\n",
    "X_selected = important.fit_transform(X, y)\n",
    "\n",
    "selected_features = X.columns[important.get_support()]\n",
    "stats[selected_features]"
   ]
  },
  {
   "cell_type": "code",
   "execution_count": 9,
   "id": "78c0d5df",
   "metadata": {},
   "outputs": [],
   "source": [
    "# selected features\n",
    "X = pd.DataFrame(X_selected, columns=selected_features, index=X.index)\n",
    "column_names = X.columns.tolist()"
   ]
  },
  {
   "cell_type": "code",
   "execution_count": 10,
   "id": "0da864ec",
   "metadata": {},
   "outputs": [
    {
     "name": "stdout",
     "output_type": "stream",
     "text": [
      "Shape of X: (161583, 13)\n",
      "Selected features: ['potential', 'age', 'shooting', 'passing', 'dribbling', 'physic', 'attacking_short_passing', 'skill_long_passing', 'skill_ball_control', 'movement_reactions', 'power_shot_power', 'mentality_vision', 'mentality_composure']\n"
     ]
    }
   ],
   "source": [
    "# Print shape and column names\n",
    "print(\"Shape of X:\", X.shape)\n",
    "print(\"Selected features:\", column_names)"
   ]
  },
  {
   "cell_type": "markdown",
   "id": "9d379d62",
   "metadata": {},
   "source": [
    "### Training the models"
   ]
  },
  {
   "cell_type": "code",
   "execution_count": 11,
   "id": "22d24ded",
   "metadata": {},
   "outputs": [
    {
     "name": "stderr",
     "output_type": "stream",
     "text": [
      "C:\\Users\\HP\\AppData\\Local\\Temp\\ipykernel_23064\\271209482.py:2: DtypeWarning: Columns (25,108) have mixed types. Specify dtype option on import or set low_memory=False.\n",
      "  players_22 = pd.read_csv(\"players_22.csv\")\n"
     ]
    }
   ],
   "source": [
    "# loading the test data set\n",
    "players_22 = pd.read_csv(\"players_22.csv\")"
   ]
  },
  {
   "cell_type": "code",
   "execution_count": 12,
   "id": "4ad72e7a",
   "metadata": {},
   "outputs": [],
   "source": [
    "# splitting the data to train and test\n",
    "X_train, X_test, y_train, y_test = train_test_split(X, y, test_size=0.2, random_state=42)"
   ]
  },
  {
   "cell_type": "code",
   "execution_count": 13,
   "id": "f248c6bd",
   "metadata": {},
   "outputs": [],
   "source": [
    "# models\n",
    "models = {\n",
    "    'GradientBoosting': GradientBoostingRegressor(),\n",
    "    'DecisionTree': DecisionTreeRegressor(),\n",
    "    'LinearRegression': LinearRegression()\n",
    "}"
   ]
  },
  {
   "cell_type": "code",
   "execution_count": 14,
   "id": "6272a1d8",
   "metadata": {},
   "outputs": [],
   "source": [
    "# setting parameters\n",
    "params = {\n",
    "    'GradientBoosting': {\n",
    "        'n_estimators': [100, 200],\n",
    "        'max_depth': [3, 5, 7]\n",
    "    },\n",
    "    'DecisionTree': {\n",
    "        'max_depth': [3, 5, 7],\n",
    "        'min_samples_split': [2, 5, 10]\n",
    "    },\n",
    "    'LinearRegression': {}\n",
    "}"
   ]
  },
  {
   "cell_type": "markdown",
   "id": "1ef6133d",
   "metadata": {},
   "source": [
    "### Measuring performance and fine-tuning"
   ]
  },
  {
   "cell_type": "code",
   "execution_count": 15,
   "id": "e958bffe",
   "metadata": {
    "scrolled": false
   },
   "outputs": [],
   "source": [
    "# performing GridSearch\n",
    "best_models = {}\n",
    "for model_name in models:\n",
    "    grid_search = GridSearchCV(models[model_name], params[model_name], cv=3, n_jobs=-1)\n",
    "    grid_search.fit(X_train, y_train)\n",
    "    best_models[model_name] = grid_search.best_estimator_"
   ]
  },
  {
   "cell_type": "code",
   "execution_count": 16,
   "id": "d59ac14f",
   "metadata": {},
   "outputs": [
    {
     "name": "stdout",
     "output_type": "stream",
     "text": [
      "GradientBoosting - RMSE: 1.1304731261386702, MAE: 0.7747315221243628, R2: 0.974215530918132\n",
      "DecisionTree - RMSE: 2.1772134348278573, MAE: 1.5565700786963894, R2: 0.9043599665815039\n",
      "LinearRegression - RMSE: 2.0756367535648024, MAE: 1.6090615319106163, R2: 0.9130758580143429\n"
     ]
    }
   ],
   "source": [
    "# evaluating models\n",
    "for model_name in best_models:\n",
    "    model = best_models[model_name]\n",
    "    y_pred = model.predict(X_test)\n",
    "    rmse = np.sqrt(mean_squared_error(y_test, y_pred))\n",
    "    mae = mean_absolute_error(y_test, y_pred)\n",
    "    r2 = r2_score(y_test, y_pred)\n",
    "    print(f\"{model_name} - RMSE: {rmse}, MAE: {mae}, R2: {r2}\")"
   ]
  },
  {
   "cell_type": "code",
   "execution_count": 17,
   "id": "5b9f790c",
   "metadata": {},
   "outputs": [
    {
     "name": "stdout",
     "output_type": "stream",
     "text": [
      "GradientBoosting:\n",
      " RMSE: 1.1305, MAE: 0.7747, R2: 0.9742\n",
      "DecisionTree:\n",
      " RMSE: 2.1772, MAE: 1.5566, R2: 0.9044\n",
      "LinearRegression:\n",
      " RMSE: 2.0756, MAE: 1.6091, R2: 0.9131\n"
     ]
    }
   ],
   "source": [
    "# evaluating models\n",
    "for model_name, model in best_models.items():\n",
    "    y_pred = model.predict(X_test)\n",
    "    rmse = np.sqrt(mean_squared_error(y_test, y_pred))\n",
    "    mae = mean_absolute_error(y_test, y_pred)\n",
    "    r2 = r2_score(y_test, y_pred)\n",
    "    print(f\"{model_name}:\\n RMSE: {rmse:.4f}, MAE: {mae:.4f}, R2: {r2:.4f}\")"
   ]
  },
  {
   "cell_type": "markdown",
   "id": "6cec5e0a",
   "metadata": {},
   "source": [
    "### Testing with FIFA22 data"
   ]
  },
  {
   "cell_type": "code",
   "execution_count": 18,
   "id": "d3da8de1",
   "metadata": {},
   "outputs": [
    {
     "name": "stdout",
     "output_type": "stream",
     "text": [
      "Common features: ['skill_ball_control', 'mentality_vision', 'power_shot_power', 'potential', 'movement_reactions', 'mentality_composure', 'age', 'attacking_short_passing', 'skill_long_passing']\n"
     ]
    }
   ],
   "source": [
    "players_22_processed = players_22.select_dtypes(include=[np.number]).dropna(axis=1)\n",
    "common_features = list(set(X.columns) & set(players_22_processed.columns))   # checking common features\n",
    "\n",
    "print(\"Common features:\", common_features)"
   ]
  },
  {
   "cell_type": "code",
   "execution_count": 19,
   "id": "f0795170",
   "metadata": {},
   "outputs": [],
   "source": [
    "# subseting\n",
    "X_common = X[common_features]\n",
    "X_test_22 = players_22_processed[common_features]\n",
    "\n",
    "# making sure the \"overall\" variable is present\n",
    "if 'overall' in players_22_processed.columns:\n",
    "    y_test_22 = players_22_processed['overall']\n",
    "else:\n",
    "    raise KeyError(\"The 'overall' column is not found in the new season data.\")"
   ]
  },
  {
   "cell_type": "code",
   "execution_count": 20,
   "id": "e4d58966",
   "metadata": {},
   "outputs": [
    {
     "name": "stdout",
     "output_type": "stream",
     "text": [
      "GradientBoosting - Validation R2 Score: 0.9551\n",
      "DecisionTree - Validation R2 Score: 0.9290\n",
      "LinearRegression - Validation R2 Score: 0.8998\n"
     ]
    }
   ],
   "source": [
    "# retraining the models\n",
    "models = {\n",
    "    'GradientBoosting': GradientBoostingRegressor(),\n",
    "    'DecisionTree': DecisionTreeRegressor(),\n",
    "    'LinearRegression': LinearRegression()}\n",
    "best_models = {}\n",
    "\n",
    "for model_name, model in models.items():\n",
    "    X_train, X_val, y_train, y_val = train_test_split(X_common, y, test_size=0.2, random_state=42)   # splitting the data\n",
    "    \n",
    "    model.fit(X_train, y_train)   # training the model\n",
    "    val_score = model.score(X_val, y_val)   # evaluate on validation set\n",
    "    print(f\"{model_name} - Validation R2 Score: {val_score:.4f}\")\n",
    "    \n",
    "    best_models[model_name] = model"
   ]
  },
  {
   "cell_type": "code",
   "execution_count": 21,
   "id": "de7f55be",
   "metadata": {
    "scrolled": true
   },
   "outputs": [
    {
     "name": "stdout",
     "output_type": "stream",
     "text": [
      "GradientBoosting for player22 subset:\n",
      "RMSE: 1.4422, MAE: 1.0219, R2: 0.9561\n",
      "\n",
      "DecisionTree for player22 subset:\n",
      "RMSE: 0.8241, MAE: 0.2316, R2: 0.9857\n",
      "\n",
      "LinearRegression for player22 subset:\n",
      "RMSE: 2.2118, MAE: 1.6933, R2: 0.8966\n",
      "\n"
     ]
    }
   ],
   "source": [
    "# evaluating each model on the new dataset\n",
    "for model_name, model in best_models.items():\n",
    "    y_pred_22 = model.predict(X_test_22)\n",
    "    \n",
    "    rmse_22 = np.sqrt(mean_squared_error(y_test_22, y_pred_22))\n",
    "    mae_22 = mean_absolute_error(y_test_22, y_pred_22)\n",
    "    r2_22 = r2_score(y_test_22, y_pred_22)\n",
    "    \n",
    "    print(f\"{model_name} for player22 subset:\")\n",
    "    print(f\"RMSE: {rmse_22:.4f}, MAE: {mae_22:.4f}, R2: {r2_22:.4f}\")\n",
    "    print()"
   ]
  },
  {
   "cell_type": "code",
   "execution_count": 22,
   "id": "060d65d0",
   "metadata": {},
   "outputs": [],
   "source": [
    "# ensemble model\n",
    "ensemble_model = VotingRegressor([\n",
    "    ('gb', best_models['GradientBoosting']),\n",
    "    ('dt', best_models['DecisionTree']),\n",
    "    ('lr', best_models['LinearRegression'])])\n",
    "\n",
    "# fitting the ensemble model\n",
    "ensemble_model.fit(X_train, y_train)\n",
    "\n",
    "# predicting based on the test set\n",
    "y_pred_ensemble = ensemble_model.predict(X_val)"
   ]
  },
  {
   "cell_type": "code",
   "execution_count": 23,
   "id": "3558d633",
   "metadata": {},
   "outputs": [
    {
     "name": "stdout",
     "output_type": "stream",
     "text": [
      "Ensemble Model Performance on Validation Set:\n",
      "RMSE: 1.5485, MAE: 1.1454, R2: 0.9516\n"
     ]
    }
   ],
   "source": [
    "# evaluating the ensemble model\n",
    "rmse_ensemble = np.sqrt(mean_squared_error(y_val, y_pred_ensemble))\n",
    "mae_ensemble = mean_absolute_error(y_val, y_pred_ensemble)\n",
    "r2_ensemble = r2_score(y_val, y_pred_ensemble)\n",
    "\n",
    "print(\"Ensemble Model Performance on Validation Set:\")\n",
    "print(f\"RMSE: {rmse_ensemble:.4f}, MAE: {mae_ensemble:.4f}, R2: {r2_ensemble:.4f}\")"
   ]
  },
  {
   "cell_type": "code",
   "execution_count": 24,
   "id": "aa28adb9",
   "metadata": {},
   "outputs": [
    {
     "name": "stdout",
     "output_type": "stream",
     "text": [
      "Ensemble Model Performance on FIFA 22 data:\n",
      "RMSE: 1.2045, MAE: 0.8864, R2: 0.9693\n"
     ]
    }
   ],
   "source": [
    "# testing on the FIFA22 data\n",
    "y_pred_22_ensemble = ensemble_model.predict(X_test_22)\n",
    "\n",
    "rmse_22_ensemble = np.sqrt(mean_squared_error(y_test_22, y_pred_22_ensemble))\n",
    "mae_22_ensemble = mean_absolute_error(y_test_22, y_pred_22_ensemble)\n",
    "r2_22_ensemble = r2_score(y_test_22, y_pred_22_ensemble)\n",
    "\n",
    "print(\"Ensemble Model Performance on FIFA 22 data:\")\n",
    "print(f\"RMSE: {rmse_22_ensemble:.4f}, MAE: {mae_22_ensemble:.4f}, R2: {r2_22_ensemble:.4f}\")"
   ]
  },
  {
   "cell_type": "markdown",
   "id": "ccb591c7",
   "metadata": {},
   "source": [
    "### Saving the best model"
   ]
  },
  {
   "cell_type": "code",
   "execution_count": 25,
   "id": "620ce509",
   "metadata": {},
   "outputs": [
    {
     "data": {
      "text/plain": [
       "['fifa_rating_predictor.pkl']"
      ]
     },
     "execution_count": 25,
     "metadata": {},
     "output_type": "execute_result"
    }
   ],
   "source": [
    "joblib.dump(ensemble_model, 'fifa_rating_predictor.pkl')"
   ]
  },
  {
   "cell_type": "markdown",
   "id": "e4aaf3fd",
   "metadata": {},
   "source": [
    "### Creating preprocessing and prediction functions"
   ]
  },
  {
   "cell_type": "code",
   "execution_count": 26,
   "id": "93c3366d",
   "metadata": {},
   "outputs": [],
   "source": [
    "# preprocessing function\n",
    "def preprocess(data):\n",
    "    input_df = pd.DataFrame([data])\n",
    "    for feature in common_features:\n",
    "        if feature not in input_df.columns:\n",
    "            input_df[feature] = 0\n",
    "    input_df = input_df[common_features]\n",
    "    return input_df"
   ]
  },
  {
   "cell_type": "code",
   "execution_count": 27,
   "id": "8e7a08f6",
   "metadata": {},
   "outputs": [],
   "source": [
    "# prediction function\n",
    "def predict(data):\n",
    "    processed_input = preprocess(data)\n",
    "    prediction = model.predict(processed_input)\n",
    "    return prediction[0]"
   ]
  },
  {
   "cell_type": "markdown",
   "id": "f0d9fc32",
   "metadata": {},
   "source": [
    "### Deploying the model to Streamlit"
   ]
  }
 ],
 "metadata": {
  "kernelspec": {
   "display_name": "Python 3 (ipykernel)",
   "language": "python",
   "name": "python3"
  },
  "language_info": {
   "codemirror_mode": {
    "name": "ipython",
    "version": 3
   },
   "file_extension": ".py",
   "mimetype": "text/x-python",
   "name": "python",
   "nbconvert_exporter": "python",
   "pygments_lexer": "ipython3",
   "version": "3.11.7"
  }
 },
 "nbformat": 4,
 "nbformat_minor": 5
}
